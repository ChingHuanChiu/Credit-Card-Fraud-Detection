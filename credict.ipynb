{
 "cells": [
  {
   "cell_type": "code",
   "execution_count": 1,
   "metadata": {},
   "outputs": [],
   "source": [
    "import pandas as pd\n",
    "import numpy as np\n",
    "import seaborn as sns\n",
    "import matplotlib.pyplot as plt\n",
    "from sklearn.preprocessing import MinMaxScaler, StandardScaler\n",
    "from sklearn.utils import shuffle\n"
   ]
  },
  {
   "cell_type": "code",
   "execution_count": 2,
   "metadata": {},
   "outputs": [
    {
     "name": "stdout",
     "output_type": "stream",
     "text": [
      "(284807, 31)\n"
     ]
    },
    {
     "data": {
      "text/html": [
       "<div>\n",
       "<style scoped>\n",
       "    .dataframe tbody tr th:only-of-type {\n",
       "        vertical-align: middle;\n",
       "    }\n",
       "\n",
       "    .dataframe tbody tr th {\n",
       "        vertical-align: top;\n",
       "    }\n",
       "\n",
       "    .dataframe thead th {\n",
       "        text-align: right;\n",
       "    }\n",
       "</style>\n",
       "<table border=\"1\" class=\"dataframe\">\n",
       "  <thead>\n",
       "    <tr style=\"text-align: right;\">\n",
       "      <th></th>\n",
       "      <th>Time</th>\n",
       "      <th>V1</th>\n",
       "      <th>V2</th>\n",
       "      <th>V3</th>\n",
       "      <th>V4</th>\n",
       "      <th>V5</th>\n",
       "      <th>V6</th>\n",
       "      <th>V7</th>\n",
       "      <th>V8</th>\n",
       "      <th>V9</th>\n",
       "      <th>...</th>\n",
       "      <th>V21</th>\n",
       "      <th>V22</th>\n",
       "      <th>V23</th>\n",
       "      <th>V24</th>\n",
       "      <th>V25</th>\n",
       "      <th>V26</th>\n",
       "      <th>V27</th>\n",
       "      <th>V28</th>\n",
       "      <th>Amount</th>\n",
       "      <th>Class</th>\n",
       "    </tr>\n",
       "  </thead>\n",
       "  <tbody>\n",
       "    <tr>\n",
       "      <th>0</th>\n",
       "      <td>0.0</td>\n",
       "      <td>-1.359807</td>\n",
       "      <td>-0.072781</td>\n",
       "      <td>2.536347</td>\n",
       "      <td>1.378155</td>\n",
       "      <td>-0.338321</td>\n",
       "      <td>0.462388</td>\n",
       "      <td>0.239599</td>\n",
       "      <td>0.098698</td>\n",
       "      <td>0.363787</td>\n",
       "      <td>...</td>\n",
       "      <td>-0.018307</td>\n",
       "      <td>0.277838</td>\n",
       "      <td>-0.110474</td>\n",
       "      <td>0.066928</td>\n",
       "      <td>0.128539</td>\n",
       "      <td>-0.189115</td>\n",
       "      <td>0.133558</td>\n",
       "      <td>-0.021053</td>\n",
       "      <td>149.62</td>\n",
       "      <td>0</td>\n",
       "    </tr>\n",
       "    <tr>\n",
       "      <th>1</th>\n",
       "      <td>0.0</td>\n",
       "      <td>1.191857</td>\n",
       "      <td>0.266151</td>\n",
       "      <td>0.166480</td>\n",
       "      <td>0.448154</td>\n",
       "      <td>0.060018</td>\n",
       "      <td>-0.082361</td>\n",
       "      <td>-0.078803</td>\n",
       "      <td>0.085102</td>\n",
       "      <td>-0.255425</td>\n",
       "      <td>...</td>\n",
       "      <td>-0.225775</td>\n",
       "      <td>-0.638672</td>\n",
       "      <td>0.101288</td>\n",
       "      <td>-0.339846</td>\n",
       "      <td>0.167170</td>\n",
       "      <td>0.125895</td>\n",
       "      <td>-0.008983</td>\n",
       "      <td>0.014724</td>\n",
       "      <td>2.69</td>\n",
       "      <td>0</td>\n",
       "    </tr>\n",
       "    <tr>\n",
       "      <th>2</th>\n",
       "      <td>1.0</td>\n",
       "      <td>-1.358354</td>\n",
       "      <td>-1.340163</td>\n",
       "      <td>1.773209</td>\n",
       "      <td>0.379780</td>\n",
       "      <td>-0.503198</td>\n",
       "      <td>1.800499</td>\n",
       "      <td>0.791461</td>\n",
       "      <td>0.247676</td>\n",
       "      <td>-1.514654</td>\n",
       "      <td>...</td>\n",
       "      <td>0.247998</td>\n",
       "      <td>0.771679</td>\n",
       "      <td>0.909412</td>\n",
       "      <td>-0.689281</td>\n",
       "      <td>-0.327642</td>\n",
       "      <td>-0.139097</td>\n",
       "      <td>-0.055353</td>\n",
       "      <td>-0.059752</td>\n",
       "      <td>378.66</td>\n",
       "      <td>0</td>\n",
       "    </tr>\n",
       "    <tr>\n",
       "      <th>3</th>\n",
       "      <td>1.0</td>\n",
       "      <td>-0.966272</td>\n",
       "      <td>-0.185226</td>\n",
       "      <td>1.792993</td>\n",
       "      <td>-0.863291</td>\n",
       "      <td>-0.010309</td>\n",
       "      <td>1.247203</td>\n",
       "      <td>0.237609</td>\n",
       "      <td>0.377436</td>\n",
       "      <td>-1.387024</td>\n",
       "      <td>...</td>\n",
       "      <td>-0.108300</td>\n",
       "      <td>0.005274</td>\n",
       "      <td>-0.190321</td>\n",
       "      <td>-1.175575</td>\n",
       "      <td>0.647376</td>\n",
       "      <td>-0.221929</td>\n",
       "      <td>0.062723</td>\n",
       "      <td>0.061458</td>\n",
       "      <td>123.50</td>\n",
       "      <td>0</td>\n",
       "    </tr>\n",
       "    <tr>\n",
       "      <th>4</th>\n",
       "      <td>2.0</td>\n",
       "      <td>-1.158233</td>\n",
       "      <td>0.877737</td>\n",
       "      <td>1.548718</td>\n",
       "      <td>0.403034</td>\n",
       "      <td>-0.407193</td>\n",
       "      <td>0.095921</td>\n",
       "      <td>0.592941</td>\n",
       "      <td>-0.270533</td>\n",
       "      <td>0.817739</td>\n",
       "      <td>...</td>\n",
       "      <td>-0.009431</td>\n",
       "      <td>0.798278</td>\n",
       "      <td>-0.137458</td>\n",
       "      <td>0.141267</td>\n",
       "      <td>-0.206010</td>\n",
       "      <td>0.502292</td>\n",
       "      <td>0.219422</td>\n",
       "      <td>0.215153</td>\n",
       "      <td>69.99</td>\n",
       "      <td>0</td>\n",
       "    </tr>\n",
       "  </tbody>\n",
       "</table>\n",
       "<p>5 rows × 31 columns</p>\n",
       "</div>"
      ],
      "text/plain": [
       "   Time        V1        V2        V3        V4        V5        V6        V7  \\\n",
       "0   0.0 -1.359807 -0.072781  2.536347  1.378155 -0.338321  0.462388  0.239599   \n",
       "1   0.0  1.191857  0.266151  0.166480  0.448154  0.060018 -0.082361 -0.078803   \n",
       "2   1.0 -1.358354 -1.340163  1.773209  0.379780 -0.503198  1.800499  0.791461   \n",
       "3   1.0 -0.966272 -0.185226  1.792993 -0.863291 -0.010309  1.247203  0.237609   \n",
       "4   2.0 -1.158233  0.877737  1.548718  0.403034 -0.407193  0.095921  0.592941   \n",
       "\n",
       "         V8        V9  ...       V21       V22       V23       V24       V25  \\\n",
       "0  0.098698  0.363787  ... -0.018307  0.277838 -0.110474  0.066928  0.128539   \n",
       "1  0.085102 -0.255425  ... -0.225775 -0.638672  0.101288 -0.339846  0.167170   \n",
       "2  0.247676 -1.514654  ...  0.247998  0.771679  0.909412 -0.689281 -0.327642   \n",
       "3  0.377436 -1.387024  ... -0.108300  0.005274 -0.190321 -1.175575  0.647376   \n",
       "4 -0.270533  0.817739  ... -0.009431  0.798278 -0.137458  0.141267 -0.206010   \n",
       "\n",
       "        V26       V27       V28  Amount  Class  \n",
       "0 -0.189115  0.133558 -0.021053  149.62      0  \n",
       "1  0.125895 -0.008983  0.014724    2.69      0  \n",
       "2 -0.139097 -0.055353 -0.059752  378.66      0  \n",
       "3 -0.221929  0.062723  0.061458  123.50      0  \n",
       "4  0.502292  0.219422  0.215153   69.99      0  \n",
       "\n",
       "[5 rows x 31 columns]"
      ]
     },
     "execution_count": 2,
     "metadata": {},
     "output_type": "execute_result"
    }
   ],
   "source": [
    "credict = pd.read_csv('creditcard.csv')\n",
    "print(credict.shape)\n",
    "credict.head()"
   ]
  },
  {
   "cell_type": "code",
   "execution_count": 3,
   "metadata": {},
   "outputs": [
    {
     "data": {
      "text/html": [
       "<div>\n",
       "<style scoped>\n",
       "    .dataframe tbody tr th:only-of-type {\n",
       "        vertical-align: middle;\n",
       "    }\n",
       "\n",
       "    .dataframe tbody tr th {\n",
       "        vertical-align: top;\n",
       "    }\n",
       "\n",
       "    .dataframe thead th {\n",
       "        text-align: right;\n",
       "    }\n",
       "</style>\n",
       "<table border=\"1\" class=\"dataframe\">\n",
       "  <thead>\n",
       "    <tr style=\"text-align: right;\">\n",
       "      <th></th>\n",
       "      <th>Time</th>\n",
       "      <th>V1</th>\n",
       "      <th>V2</th>\n",
       "      <th>V3</th>\n",
       "      <th>V4</th>\n",
       "      <th>V5</th>\n",
       "      <th>V6</th>\n",
       "      <th>V7</th>\n",
       "      <th>V8</th>\n",
       "      <th>V9</th>\n",
       "      <th>...</th>\n",
       "      <th>V21</th>\n",
       "      <th>V22</th>\n",
       "      <th>V23</th>\n",
       "      <th>V24</th>\n",
       "      <th>V25</th>\n",
       "      <th>V26</th>\n",
       "      <th>V27</th>\n",
       "      <th>V28</th>\n",
       "      <th>Amount</th>\n",
       "      <th>Class</th>\n",
       "    </tr>\n",
       "  </thead>\n",
       "  <tbody>\n",
       "    <tr>\n",
       "      <th>count</th>\n",
       "      <td>284807.000000</td>\n",
       "      <td>2.848070e+05</td>\n",
       "      <td>2.848070e+05</td>\n",
       "      <td>2.848070e+05</td>\n",
       "      <td>2.848070e+05</td>\n",
       "      <td>2.848070e+05</td>\n",
       "      <td>2.848070e+05</td>\n",
       "      <td>2.848070e+05</td>\n",
       "      <td>2.848070e+05</td>\n",
       "      <td>2.848070e+05</td>\n",
       "      <td>...</td>\n",
       "      <td>2.848070e+05</td>\n",
       "      <td>2.848070e+05</td>\n",
       "      <td>2.848070e+05</td>\n",
       "      <td>2.848070e+05</td>\n",
       "      <td>2.848070e+05</td>\n",
       "      <td>2.848070e+05</td>\n",
       "      <td>2.848070e+05</td>\n",
       "      <td>2.848070e+05</td>\n",
       "      <td>284807.000000</td>\n",
       "      <td>284807.000000</td>\n",
       "    </tr>\n",
       "    <tr>\n",
       "      <th>mean</th>\n",
       "      <td>94813.859575</td>\n",
       "      <td>3.919560e-15</td>\n",
       "      <td>5.688174e-16</td>\n",
       "      <td>-8.769071e-15</td>\n",
       "      <td>2.782312e-15</td>\n",
       "      <td>-1.552563e-15</td>\n",
       "      <td>2.010663e-15</td>\n",
       "      <td>-1.694249e-15</td>\n",
       "      <td>-1.927028e-16</td>\n",
       "      <td>-3.137024e-15</td>\n",
       "      <td>...</td>\n",
       "      <td>1.537294e-16</td>\n",
       "      <td>7.959909e-16</td>\n",
       "      <td>5.367590e-16</td>\n",
       "      <td>4.458112e-15</td>\n",
       "      <td>1.453003e-15</td>\n",
       "      <td>1.699104e-15</td>\n",
       "      <td>-3.660161e-16</td>\n",
       "      <td>-1.206049e-16</td>\n",
       "      <td>88.349619</td>\n",
       "      <td>0.001727</td>\n",
       "    </tr>\n",
       "    <tr>\n",
       "      <th>std</th>\n",
       "      <td>47488.145955</td>\n",
       "      <td>1.958696e+00</td>\n",
       "      <td>1.651309e+00</td>\n",
       "      <td>1.516255e+00</td>\n",
       "      <td>1.415869e+00</td>\n",
       "      <td>1.380247e+00</td>\n",
       "      <td>1.332271e+00</td>\n",
       "      <td>1.237094e+00</td>\n",
       "      <td>1.194353e+00</td>\n",
       "      <td>1.098632e+00</td>\n",
       "      <td>...</td>\n",
       "      <td>7.345240e-01</td>\n",
       "      <td>7.257016e-01</td>\n",
       "      <td>6.244603e-01</td>\n",
       "      <td>6.056471e-01</td>\n",
       "      <td>5.212781e-01</td>\n",
       "      <td>4.822270e-01</td>\n",
       "      <td>4.036325e-01</td>\n",
       "      <td>3.300833e-01</td>\n",
       "      <td>250.120109</td>\n",
       "      <td>0.041527</td>\n",
       "    </tr>\n",
       "    <tr>\n",
       "      <th>min</th>\n",
       "      <td>0.000000</td>\n",
       "      <td>-5.640751e+01</td>\n",
       "      <td>-7.271573e+01</td>\n",
       "      <td>-4.832559e+01</td>\n",
       "      <td>-5.683171e+00</td>\n",
       "      <td>-1.137433e+02</td>\n",
       "      <td>-2.616051e+01</td>\n",
       "      <td>-4.355724e+01</td>\n",
       "      <td>-7.321672e+01</td>\n",
       "      <td>-1.343407e+01</td>\n",
       "      <td>...</td>\n",
       "      <td>-3.483038e+01</td>\n",
       "      <td>-1.093314e+01</td>\n",
       "      <td>-4.480774e+01</td>\n",
       "      <td>-2.836627e+00</td>\n",
       "      <td>-1.029540e+01</td>\n",
       "      <td>-2.604551e+00</td>\n",
       "      <td>-2.256568e+01</td>\n",
       "      <td>-1.543008e+01</td>\n",
       "      <td>0.000000</td>\n",
       "      <td>0.000000</td>\n",
       "    </tr>\n",
       "    <tr>\n",
       "      <th>25%</th>\n",
       "      <td>54201.500000</td>\n",
       "      <td>-9.203734e-01</td>\n",
       "      <td>-5.985499e-01</td>\n",
       "      <td>-8.903648e-01</td>\n",
       "      <td>-8.486401e-01</td>\n",
       "      <td>-6.915971e-01</td>\n",
       "      <td>-7.682956e-01</td>\n",
       "      <td>-5.540759e-01</td>\n",
       "      <td>-2.086297e-01</td>\n",
       "      <td>-6.430976e-01</td>\n",
       "      <td>...</td>\n",
       "      <td>-2.283949e-01</td>\n",
       "      <td>-5.423504e-01</td>\n",
       "      <td>-1.618463e-01</td>\n",
       "      <td>-3.545861e-01</td>\n",
       "      <td>-3.171451e-01</td>\n",
       "      <td>-3.269839e-01</td>\n",
       "      <td>-7.083953e-02</td>\n",
       "      <td>-5.295979e-02</td>\n",
       "      <td>5.600000</td>\n",
       "      <td>0.000000</td>\n",
       "    </tr>\n",
       "    <tr>\n",
       "      <th>50%</th>\n",
       "      <td>84692.000000</td>\n",
       "      <td>1.810880e-02</td>\n",
       "      <td>6.548556e-02</td>\n",
       "      <td>1.798463e-01</td>\n",
       "      <td>-1.984653e-02</td>\n",
       "      <td>-5.433583e-02</td>\n",
       "      <td>-2.741871e-01</td>\n",
       "      <td>4.010308e-02</td>\n",
       "      <td>2.235804e-02</td>\n",
       "      <td>-5.142873e-02</td>\n",
       "      <td>...</td>\n",
       "      <td>-2.945017e-02</td>\n",
       "      <td>6.781943e-03</td>\n",
       "      <td>-1.119293e-02</td>\n",
       "      <td>4.097606e-02</td>\n",
       "      <td>1.659350e-02</td>\n",
       "      <td>-5.213911e-02</td>\n",
       "      <td>1.342146e-03</td>\n",
       "      <td>1.124383e-02</td>\n",
       "      <td>22.000000</td>\n",
       "      <td>0.000000</td>\n",
       "    </tr>\n",
       "    <tr>\n",
       "      <th>75%</th>\n",
       "      <td>139320.500000</td>\n",
       "      <td>1.315642e+00</td>\n",
       "      <td>8.037239e-01</td>\n",
       "      <td>1.027196e+00</td>\n",
       "      <td>7.433413e-01</td>\n",
       "      <td>6.119264e-01</td>\n",
       "      <td>3.985649e-01</td>\n",
       "      <td>5.704361e-01</td>\n",
       "      <td>3.273459e-01</td>\n",
       "      <td>5.971390e-01</td>\n",
       "      <td>...</td>\n",
       "      <td>1.863772e-01</td>\n",
       "      <td>5.285536e-01</td>\n",
       "      <td>1.476421e-01</td>\n",
       "      <td>4.395266e-01</td>\n",
       "      <td>3.507156e-01</td>\n",
       "      <td>2.409522e-01</td>\n",
       "      <td>9.104512e-02</td>\n",
       "      <td>7.827995e-02</td>\n",
       "      <td>77.165000</td>\n",
       "      <td>0.000000</td>\n",
       "    </tr>\n",
       "    <tr>\n",
       "      <th>max</th>\n",
       "      <td>172792.000000</td>\n",
       "      <td>2.454930e+00</td>\n",
       "      <td>2.205773e+01</td>\n",
       "      <td>9.382558e+00</td>\n",
       "      <td>1.687534e+01</td>\n",
       "      <td>3.480167e+01</td>\n",
       "      <td>7.330163e+01</td>\n",
       "      <td>1.205895e+02</td>\n",
       "      <td>2.000721e+01</td>\n",
       "      <td>1.559499e+01</td>\n",
       "      <td>...</td>\n",
       "      <td>2.720284e+01</td>\n",
       "      <td>1.050309e+01</td>\n",
       "      <td>2.252841e+01</td>\n",
       "      <td>4.584549e+00</td>\n",
       "      <td>7.519589e+00</td>\n",
       "      <td>3.517346e+00</td>\n",
       "      <td>3.161220e+01</td>\n",
       "      <td>3.384781e+01</td>\n",
       "      <td>25691.160000</td>\n",
       "      <td>1.000000</td>\n",
       "    </tr>\n",
       "  </tbody>\n",
       "</table>\n",
       "<p>8 rows × 31 columns</p>\n",
       "</div>"
      ],
      "text/plain": [
       "                Time            V1            V2            V3            V4  \\\n",
       "count  284807.000000  2.848070e+05  2.848070e+05  2.848070e+05  2.848070e+05   \n",
       "mean    94813.859575  3.919560e-15  5.688174e-16 -8.769071e-15  2.782312e-15   \n",
       "std     47488.145955  1.958696e+00  1.651309e+00  1.516255e+00  1.415869e+00   \n",
       "min         0.000000 -5.640751e+01 -7.271573e+01 -4.832559e+01 -5.683171e+00   \n",
       "25%     54201.500000 -9.203734e-01 -5.985499e-01 -8.903648e-01 -8.486401e-01   \n",
       "50%     84692.000000  1.810880e-02  6.548556e-02  1.798463e-01 -1.984653e-02   \n",
       "75%    139320.500000  1.315642e+00  8.037239e-01  1.027196e+00  7.433413e-01   \n",
       "max    172792.000000  2.454930e+00  2.205773e+01  9.382558e+00  1.687534e+01   \n",
       "\n",
       "                 V5            V6            V7            V8            V9  \\\n",
       "count  2.848070e+05  2.848070e+05  2.848070e+05  2.848070e+05  2.848070e+05   \n",
       "mean  -1.552563e-15  2.010663e-15 -1.694249e-15 -1.927028e-16 -3.137024e-15   \n",
       "std    1.380247e+00  1.332271e+00  1.237094e+00  1.194353e+00  1.098632e+00   \n",
       "min   -1.137433e+02 -2.616051e+01 -4.355724e+01 -7.321672e+01 -1.343407e+01   \n",
       "25%   -6.915971e-01 -7.682956e-01 -5.540759e-01 -2.086297e-01 -6.430976e-01   \n",
       "50%   -5.433583e-02 -2.741871e-01  4.010308e-02  2.235804e-02 -5.142873e-02   \n",
       "75%    6.119264e-01  3.985649e-01  5.704361e-01  3.273459e-01  5.971390e-01   \n",
       "max    3.480167e+01  7.330163e+01  1.205895e+02  2.000721e+01  1.559499e+01   \n",
       "\n",
       "       ...           V21           V22           V23           V24  \\\n",
       "count  ...  2.848070e+05  2.848070e+05  2.848070e+05  2.848070e+05   \n",
       "mean   ...  1.537294e-16  7.959909e-16  5.367590e-16  4.458112e-15   \n",
       "std    ...  7.345240e-01  7.257016e-01  6.244603e-01  6.056471e-01   \n",
       "min    ... -3.483038e+01 -1.093314e+01 -4.480774e+01 -2.836627e+00   \n",
       "25%    ... -2.283949e-01 -5.423504e-01 -1.618463e-01 -3.545861e-01   \n",
       "50%    ... -2.945017e-02  6.781943e-03 -1.119293e-02  4.097606e-02   \n",
       "75%    ...  1.863772e-01  5.285536e-01  1.476421e-01  4.395266e-01   \n",
       "max    ...  2.720284e+01  1.050309e+01  2.252841e+01  4.584549e+00   \n",
       "\n",
       "                V25           V26           V27           V28         Amount  \\\n",
       "count  2.848070e+05  2.848070e+05  2.848070e+05  2.848070e+05  284807.000000   \n",
       "mean   1.453003e-15  1.699104e-15 -3.660161e-16 -1.206049e-16      88.349619   \n",
       "std    5.212781e-01  4.822270e-01  4.036325e-01  3.300833e-01     250.120109   \n",
       "min   -1.029540e+01 -2.604551e+00 -2.256568e+01 -1.543008e+01       0.000000   \n",
       "25%   -3.171451e-01 -3.269839e-01 -7.083953e-02 -5.295979e-02       5.600000   \n",
       "50%    1.659350e-02 -5.213911e-02  1.342146e-03  1.124383e-02      22.000000   \n",
       "75%    3.507156e-01  2.409522e-01  9.104512e-02  7.827995e-02      77.165000   \n",
       "max    7.519589e+00  3.517346e+00  3.161220e+01  3.384781e+01   25691.160000   \n",
       "\n",
       "               Class  \n",
       "count  284807.000000  \n",
       "mean        0.001727  \n",
       "std         0.041527  \n",
       "min         0.000000  \n",
       "25%         0.000000  \n",
       "50%         0.000000  \n",
       "75%         0.000000  \n",
       "max         1.000000  \n",
       "\n",
       "[8 rows x 31 columns]"
      ]
     },
     "execution_count": 3,
     "metadata": {},
     "output_type": "execute_result"
    }
   ],
   "source": [
    "credict.describe()"
   ]
  },
  {
   "cell_type": "markdown",
   "metadata": {},
   "source": [
    "## Check if the nan value is in the data"
   ]
  },
  {
   "cell_type": "code",
   "execution_count": 4,
   "metadata": {},
   "outputs": [
    {
     "data": {
      "text/plain": [
       "Time      0\n",
       "V1        0\n",
       "V2        0\n",
       "V3        0\n",
       "V4        0\n",
       "V5        0\n",
       "V6        0\n",
       "V7        0\n",
       "V8        0\n",
       "V9        0\n",
       "V10       0\n",
       "V11       0\n",
       "V12       0\n",
       "V13       0\n",
       "V14       0\n",
       "V15       0\n",
       "V16       0\n",
       "V17       0\n",
       "V18       0\n",
       "V19       0\n",
       "V20       0\n",
       "V21       0\n",
       "V22       0\n",
       "V23       0\n",
       "V24       0\n",
       "V25       0\n",
       "V26       0\n",
       "V27       0\n",
       "V28       0\n",
       "Amount    0\n",
       "Class     0\n",
       "dtype: int64"
      ]
     },
     "execution_count": 4,
     "metadata": {},
     "output_type": "execute_result"
    }
   ],
   "source": [
    "credict.isnull().sum()"
   ]
  },
  {
   "cell_type": "markdown",
   "metadata": {},
   "source": [
    "###  0: 正常 ; 1:被盜刷"
   ]
  },
  {
   "cell_type": "code",
   "execution_count": 5,
   "metadata": {},
   "outputs": [
    {
     "name": "stdout",
     "output_type": "stream",
     "text": [
      "0    0.998273\n",
      "1    0.001727\n",
      "Name: Class, dtype: float64\n"
     ]
    },
    {
     "data": {
      "text/plain": [
       "<matplotlib.axes._subplots.AxesSubplot at 0x7f93bd489890>"
      ]
     },
     "execution_count": 5,
     "metadata": {},
     "output_type": "execute_result"
    },
    {
     "data": {
      "image/png": "[encoded data removed]",
      "text/plain": [
       "<Figure size 432x288 with 1 Axes>"
      ]
     },
     "metadata": {
      "needs_background": "light"
     },
     "output_type": "display_data"
    }
   ],
   "source": [
    "print(credict.Class.value_counts(normalize=True))\n",
    "credict.Class.value_counts(normalize=True).plot.bar()\n"
   ]
  },
  {
   "cell_type": "markdown",
   "metadata": {},
   "source": [
    "# Feature"
   ]
  },
  {
   "cell_type": "markdown",
   "metadata": {},
   "source": [
    "## AMOUNT\n"
   ]
  },
  {
   "cell_type": "code",
   "execution_count": 6,
   "metadata": {},
   "outputs": [
    {
     "data": {
      "text/plain": [
       "count    284807.000000\n",
       "mean         88.349619\n",
       "std         250.120109\n",
       "min           0.000000\n",
       "25%           5.600000\n",
       "50%          22.000000\n",
       "75%          77.165000\n",
       "max       25691.160000\n",
       "Name: Amount, dtype: float64"
      ]
     },
     "execution_count": 6,
     "metadata": {},
     "output_type": "execute_result"
    }
   ],
   "source": [
    "credict.Amount.describe()"
   ]
  },
  {
   "cell_type": "code",
   "execution_count": 7,
   "metadata": {},
   "outputs": [
    {
     "data": {
      "text/plain": [
       "<matplotlib.axes._subplots.AxesSubplot at 0x7f93bf72a850>"
      ]
     },
     "execution_count": 7,
     "metadata": {},
     "output_type": "execute_result"
    },
    {
     "data": {
      "image/png": "[encoded data removed]",
      "text/plain": [
       "<Figure size 432x288 with 1 Axes>"
      ]
     },
     "metadata": {
      "needs_background": "light"
     },
     "output_type": "display_data"
    }
   ],
   "source": [
    "sns.distplot(credict[credict.Class == 0].Amount, bins=10 )"
   ]
  },
  {
   "cell_type": "code",
   "execution_count": 8,
   "metadata": {},
   "outputs": [
    {
     "data": {
      "text/plain": [
       "<matplotlib.axes._subplots.AxesSubplot at 0x7f93bf882c90>"
      ]
     },
     "execution_count": 8,
     "metadata": {},
     "output_type": "execute_result"
    },
    {
     "data": {
      "image/png": "[encoded data removed]",
      "text/plain": [
       "<Figure size 432x288 with 1 Axes>"
      ]
     },
     "metadata": {
      "needs_background": "light"
     },
     "output_type": "display_data"
    }
   ],
   "source": [
    "sns.distplot(credict[credict.Class == 1].Amount, bins=10, color='r' )"
   ]
  },
  {
   "cell_type": "markdown",
   "metadata": {},
   "source": [
    "# Time (資料集中每個刷卡時間和第一次刷卡時間之間經過的秒數)"
   ]
  },
  {
   "cell_type": "code",
   "execution_count": 9,
   "metadata": {},
   "outputs": [
    {
     "data": {
      "text/plain": [
       "<matplotlib.axes._subplots.AxesSubplot at 0x7f93bf6db850>"
      ]
     },
     "execution_count": 9,
     "metadata": {},
     "output_type": "execute_result"
    },
    {
     "data": {
      "image/png": "[encoded data removed]",
      "text/plain": [
       "<Figure size 432x288 with 1 Axes>"
      ]
     },
     "metadata": {
      "needs_background": "light"
     },
     "output_type": "display_data"
    }
   ],
   "source": [
    "sns.distplot(credict.Time)"
   ]
  },
  {
   "cell_type": "code",
   "execution_count": 10,
   "metadata": {},
   "outputs": [
    {
     "data": {
      "image/png": "[encoded data removed]",
      "text/plain": [
       "<Figure size 432x288 with 1 Axes>"
      ]
     },
     "metadata": {
      "needs_background": "light"
     },
     "output_type": "display_data"
    },
    {
     "data": {
      "image/png": "[encoded data removed]",
      "text/plain": [
       "<Figure size 432x288 with 1 Axes>"
      ]
     },
     "metadata": {
      "needs_background": "light"
     },
     "output_type": "display_data"
    }
   ],
   "source": [
    "for c in [0, 1]:\n",
    "    plt.figure()\n",
    "    plt.hist(credict[credict.Class == c].Amount, bins=100)\n",
    "    \n",
    "    plt.xlabel(f'{c}_seconds')"
   ]
  },
  {
   "cell_type": "markdown",
   "metadata": {},
   "source": [
    "# Data Preprocessing"
   ]
  },
  {
   "cell_type": "code",
   "execution_count": 11,
   "metadata": {},
   "outputs": [],
   "source": [
    "norm_credict = credict.copy()\n",
    "SCALER_FEATURE =  ['Time', 'Amount']\n",
    "for c in SCALER_FEATURE:\n",
    "    norm_credict[f'norm_{c}'] =MinMaxScaler((-1, 1)).fit_transform(norm_credict[c].values.reshape(-1, 1))[:,0]\n",
    "    norm_credict.drop(c, 1, inplace=True)"
   ]
  },
  {
   "cell_type": "code",
   "execution_count": 12,
   "metadata": {},
   "outputs": [
    {
     "data": {
      "text/html": [
       "<div>\n",
       "<style scoped>\n",
       "    .dataframe tbody tr th:only-of-type {\n",
       "        vertical-align: middle;\n",
       "    }\n",
       "\n",
       "    .dataframe tbody tr th {\n",
       "        vertical-align: top;\n",
       "    }\n",
       "\n",
       "    .dataframe thead th {\n",
       "        text-align: right;\n",
       "    }\n",
       "</style>\n",
       "<table border=\"1\" class=\"dataframe\">\n",
       "  <thead>\n",
       "    <tr style=\"text-align: right;\">\n",
       "      <th></th>\n",
       "      <th>V1</th>\n",
       "      <th>V2</th>\n",
       "      <th>V3</th>\n",
       "      <th>V4</th>\n",
       "      <th>V5</th>\n",
       "      <th>V6</th>\n",
       "      <th>V7</th>\n",
       "      <th>V8</th>\n",
       "      <th>V9</th>\n",
       "      <th>V10</th>\n",
       "      <th>...</th>\n",
       "      <th>V22</th>\n",
       "      <th>V23</th>\n",
       "      <th>V24</th>\n",
       "      <th>V25</th>\n",
       "      <th>V26</th>\n",
       "      <th>V27</th>\n",
       "      <th>V28</th>\n",
       "      <th>Class</th>\n",
       "      <th>norm_Time</th>\n",
       "      <th>norm_Amount</th>\n",
       "    </tr>\n",
       "  </thead>\n",
       "  <tbody>\n",
       "    <tr>\n",
       "      <th>count</th>\n",
       "      <td>2.848070e+05</td>\n",
       "      <td>2.848070e+05</td>\n",
       "      <td>2.848070e+05</td>\n",
       "      <td>2.848070e+05</td>\n",
       "      <td>2.848070e+05</td>\n",
       "      <td>2.848070e+05</td>\n",
       "      <td>2.848070e+05</td>\n",
       "      <td>2.848070e+05</td>\n",
       "      <td>2.848070e+05</td>\n",
       "      <td>2.848070e+05</td>\n",
       "      <td>...</td>\n",
       "      <td>2.848070e+05</td>\n",
       "      <td>2.848070e+05</td>\n",
       "      <td>2.848070e+05</td>\n",
       "      <td>2.848070e+05</td>\n",
       "      <td>2.848070e+05</td>\n",
       "      <td>2.848070e+05</td>\n",
       "      <td>2.848070e+05</td>\n",
       "      <td>284807.000000</td>\n",
       "      <td>284807.000000</td>\n",
       "      <td>284807.000000</td>\n",
       "    </tr>\n",
       "    <tr>\n",
       "      <th>mean</th>\n",
       "      <td>3.919560e-15</td>\n",
       "      <td>5.688174e-16</td>\n",
       "      <td>-8.769071e-15</td>\n",
       "      <td>2.782312e-15</td>\n",
       "      <td>-1.552563e-15</td>\n",
       "      <td>2.010663e-15</td>\n",
       "      <td>-1.694249e-15</td>\n",
       "      <td>-1.927028e-16</td>\n",
       "      <td>-3.137024e-15</td>\n",
       "      <td>1.768627e-15</td>\n",
       "      <td>...</td>\n",
       "      <td>7.959909e-16</td>\n",
       "      <td>5.367590e-16</td>\n",
       "      <td>4.458112e-15</td>\n",
       "      <td>1.453003e-15</td>\n",
       "      <td>1.699104e-15</td>\n",
       "      <td>-3.660161e-16</td>\n",
       "      <td>-1.206049e-16</td>\n",
       "      <td>0.001727</td>\n",
       "      <td>0.097433</td>\n",
       "      <td>-0.993122</td>\n",
       "    </tr>\n",
       "    <tr>\n",
       "      <th>std</th>\n",
       "      <td>1.958696e+00</td>\n",
       "      <td>1.651309e+00</td>\n",
       "      <td>1.516255e+00</td>\n",
       "      <td>1.415869e+00</td>\n",
       "      <td>1.380247e+00</td>\n",
       "      <td>1.332271e+00</td>\n",
       "      <td>1.237094e+00</td>\n",
       "      <td>1.194353e+00</td>\n",
       "      <td>1.098632e+00</td>\n",
       "      <td>1.088850e+00</td>\n",
       "      <td>...</td>\n",
       "      <td>7.257016e-01</td>\n",
       "      <td>6.244603e-01</td>\n",
       "      <td>6.056471e-01</td>\n",
       "      <td>5.212781e-01</td>\n",
       "      <td>4.822270e-01</td>\n",
       "      <td>4.036325e-01</td>\n",
       "      <td>3.300833e-01</td>\n",
       "      <td>0.041527</td>\n",
       "      <td>0.549657</td>\n",
       "      <td>0.019471</td>\n",
       "    </tr>\n",
       "    <tr>\n",
       "      <th>min</th>\n",
       "      <td>-5.640751e+01</td>\n",
       "      <td>-7.271573e+01</td>\n",
       "      <td>-4.832559e+01</td>\n",
       "      <td>-5.683171e+00</td>\n",
       "      <td>-1.137433e+02</td>\n",
       "      <td>-2.616051e+01</td>\n",
       "      <td>-4.355724e+01</td>\n",
       "      <td>-7.321672e+01</td>\n",
       "      <td>-1.343407e+01</td>\n",
       "      <td>-2.458826e+01</td>\n",
       "      <td>...</td>\n",
       "      <td>-1.093314e+01</td>\n",
       "      <td>-4.480774e+01</td>\n",
       "      <td>-2.836627e+00</td>\n",
       "      <td>-1.029540e+01</td>\n",
       "      <td>-2.604551e+00</td>\n",
       "      <td>-2.256568e+01</td>\n",
       "      <td>-1.543008e+01</td>\n",
       "      <td>0.000000</td>\n",
       "      <td>-1.000000</td>\n",
       "      <td>-1.000000</td>\n",
       "    </tr>\n",
       "    <tr>\n",
       "      <th>25%</th>\n",
       "      <td>-9.203734e-01</td>\n",
       "      <td>-5.985499e-01</td>\n",
       "      <td>-8.903648e-01</td>\n",
       "      <td>-8.486401e-01</td>\n",
       "      <td>-6.915971e-01</td>\n",
       "      <td>-7.682956e-01</td>\n",
       "      <td>-5.540759e-01</td>\n",
       "      <td>-2.086297e-01</td>\n",
       "      <td>-6.430976e-01</td>\n",
       "      <td>-5.354257e-01</td>\n",
       "      <td>...</td>\n",
       "      <td>-5.423504e-01</td>\n",
       "      <td>-1.618463e-01</td>\n",
       "      <td>-3.545861e-01</td>\n",
       "      <td>-3.171451e-01</td>\n",
       "      <td>-3.269839e-01</td>\n",
       "      <td>-7.083953e-02</td>\n",
       "      <td>-5.295979e-02</td>\n",
       "      <td>0.000000</td>\n",
       "      <td>-0.372639</td>\n",
       "      <td>-0.999564</td>\n",
       "    </tr>\n",
       "    <tr>\n",
       "      <th>50%</th>\n",
       "      <td>1.810880e-02</td>\n",
       "      <td>6.548556e-02</td>\n",
       "      <td>1.798463e-01</td>\n",
       "      <td>-1.984653e-02</td>\n",
       "      <td>-5.433583e-02</td>\n",
       "      <td>-2.741871e-01</td>\n",
       "      <td>4.010308e-02</td>\n",
       "      <td>2.235804e-02</td>\n",
       "      <td>-5.142873e-02</td>\n",
       "      <td>-9.291738e-02</td>\n",
       "      <td>...</td>\n",
       "      <td>6.781943e-03</td>\n",
       "      <td>-1.119293e-02</td>\n",
       "      <td>4.097606e-02</td>\n",
       "      <td>1.659350e-02</td>\n",
       "      <td>-5.213911e-02</td>\n",
       "      <td>1.342146e-03</td>\n",
       "      <td>1.124383e-02</td>\n",
       "      <td>0.000000</td>\n",
       "      <td>-0.019723</td>\n",
       "      <td>-0.998287</td>\n",
       "    </tr>\n",
       "    <tr>\n",
       "      <th>75%</th>\n",
       "      <td>1.315642e+00</td>\n",
       "      <td>8.037239e-01</td>\n",
       "      <td>1.027196e+00</td>\n",
       "      <td>7.433413e-01</td>\n",
       "      <td>6.119264e-01</td>\n",
       "      <td>3.985649e-01</td>\n",
       "      <td>5.704361e-01</td>\n",
       "      <td>3.273459e-01</td>\n",
       "      <td>5.971390e-01</td>\n",
       "      <td>4.539234e-01</td>\n",
       "      <td>...</td>\n",
       "      <td>5.285536e-01</td>\n",
       "      <td>1.476421e-01</td>\n",
       "      <td>4.395266e-01</td>\n",
       "      <td>3.507156e-01</td>\n",
       "      <td>2.409522e-01</td>\n",
       "      <td>9.104512e-02</td>\n",
       "      <td>7.827995e-02</td>\n",
       "      <td>0.000000</td>\n",
       "      <td>0.612580</td>\n",
       "      <td>-0.993993</td>\n",
       "    </tr>\n",
       "    <tr>\n",
       "      <th>max</th>\n",
       "      <td>2.454930e+00</td>\n",
       "      <td>2.205773e+01</td>\n",
       "      <td>9.382558e+00</td>\n",
       "      <td>1.687534e+01</td>\n",
       "      <td>3.480167e+01</td>\n",
       "      <td>7.330163e+01</td>\n",
       "      <td>1.205895e+02</td>\n",
       "      <td>2.000721e+01</td>\n",
       "      <td>1.559499e+01</td>\n",
       "      <td>2.374514e+01</td>\n",
       "      <td>...</td>\n",
       "      <td>1.050309e+01</td>\n",
       "      <td>2.252841e+01</td>\n",
       "      <td>4.584549e+00</td>\n",
       "      <td>7.519589e+00</td>\n",
       "      <td>3.517346e+00</td>\n",
       "      <td>3.161220e+01</td>\n",
       "      <td>3.384781e+01</td>\n",
       "      <td>1.000000</td>\n",
       "      <td>1.000000</td>\n",
       "      <td>1.000000</td>\n",
       "    </tr>\n",
       "  </tbody>\n",
       "</table>\n",
       "<p>8 rows × 31 columns</p>\n",
       "</div>"
      ],
      "text/plain": [
       "                 V1            V2            V3            V4            V5  \\\n",
       "count  2.848070e+05  2.848070e+05  2.848070e+05  2.848070e+05  2.848070e+05   \n",
       "mean   3.919560e-15  5.688174e-16 -8.769071e-15  2.782312e-15 -1.552563e-15   \n",
       "std    1.958696e+00  1.651309e+00  1.516255e+00  1.415869e+00  1.380247e+00   \n",
       "min   -5.640751e+01 -7.271573e+01 -4.832559e+01 -5.683171e+00 -1.137433e+02   \n",
       "25%   -9.203734e-01 -5.985499e-01 -8.903648e-01 -8.486401e-01 -6.915971e-01   \n",
       "50%    1.810880e-02  6.548556e-02  1.798463e-01 -1.984653e-02 -5.433583e-02   \n",
       "75%    1.315642e+00  8.037239e-01  1.027196e+00  7.433413e-01  6.119264e-01   \n",
       "max    2.454930e+00  2.205773e+01  9.382558e+00  1.687534e+01  3.480167e+01   \n",
       "\n",
       "                 V6            V7            V8            V9           V10  \\\n",
       "count  2.848070e+05  2.848070e+05  2.848070e+05  2.848070e+05  2.848070e+05   \n",
       "mean   2.010663e-15 -1.694249e-15 -1.927028e-16 -3.137024e-15  1.768627e-15   \n",
       "std    1.332271e+00  1.237094e+00  1.194353e+00  1.098632e+00  1.088850e+00   \n",
       "min   -2.616051e+01 -4.355724e+01 -7.321672e+01 -1.343407e+01 -2.458826e+01   \n",
       "25%   -7.682956e-01 -5.540759e-01 -2.086297e-01 -6.430976e-01 -5.354257e-01   \n",
       "50%   -2.741871e-01  4.010308e-02  2.235804e-02 -5.142873e-02 -9.291738e-02   \n",
       "75%    3.985649e-01  5.704361e-01  3.273459e-01  5.971390e-01  4.539234e-01   \n",
       "max    7.330163e+01  1.205895e+02  2.000721e+01  1.559499e+01  2.374514e+01   \n",
       "\n",
       "       ...           V22           V23           V24           V25  \\\n",
       "count  ...  2.848070e+05  2.848070e+05  2.848070e+05  2.848070e+05   \n",
       "mean   ...  7.959909e-16  5.367590e-16  4.458112e-15  1.453003e-15   \n",
       "std    ...  7.257016e-01  6.244603e-01  6.056471e-01  5.212781e-01   \n",
       "min    ... -1.093314e+01 -4.480774e+01 -2.836627e+00 -1.029540e+01   \n",
       "25%    ... -5.423504e-01 -1.618463e-01 -3.545861e-01 -3.171451e-01   \n",
       "50%    ...  6.781943e-03 -1.119293e-02  4.097606e-02  1.659350e-02   \n",
       "75%    ...  5.285536e-01  1.476421e-01  4.395266e-01  3.507156e-01   \n",
       "max    ...  1.050309e+01  2.252841e+01  4.584549e+00  7.519589e+00   \n",
       "\n",
       "                V26           V27           V28          Class      norm_Time  \\\n",
       "count  2.848070e+05  2.848070e+05  2.848070e+05  284807.000000  284807.000000   \n",
       "mean   1.699104e-15 -3.660161e-16 -1.206049e-16       0.001727       0.097433   \n",
       "std    4.822270e-01  4.036325e-01  3.300833e-01       0.041527       0.549657   \n",
       "min   -2.604551e+00 -2.256568e+01 -1.543008e+01       0.000000      -1.000000   \n",
       "25%   -3.269839e-01 -7.083953e-02 -5.295979e-02       0.000000      -0.372639   \n",
       "50%   -5.213911e-02  1.342146e-03  1.124383e-02       0.000000      -0.019723   \n",
       "75%    2.409522e-01  9.104512e-02  7.827995e-02       0.000000       0.612580   \n",
       "max    3.517346e+00  3.161220e+01  3.384781e+01       1.000000       1.000000   \n",
       "\n",
       "         norm_Amount  \n",
       "count  284807.000000  \n",
       "mean       -0.993122  \n",
       "std         0.019471  \n",
       "min        -1.000000  \n",
       "25%        -0.999564  \n",
       "50%        -0.998287  \n",
       "75%        -0.993993  \n",
       "max         1.000000  \n",
       "\n",
       "[8 rows x 31 columns]"
      ]
     },
     "execution_count": 12,
     "metadata": {},
     "output_type": "execute_result"
    }
   ],
   "source": [
    "norm_credict.describe()"
   ]
  },
  {
   "cell_type": "code",
   "execution_count": 15,
   "metadata": {},
   "outputs": [
    {
     "data": {
      "text/plain": [
       "<matplotlib.axes._subplots.AxesSubplot at 0x7f93b5f302d0>"
      ]
     },
     "execution_count": 15,
     "metadata": {},
     "output_type": "execute_result"
    },
    {
     "data": {
      "image/png": "[encoded data removed]",
      "text/plain": [
       "<Figure size 432x288 with 1 Axes>"
      ]
     },
     "metadata": {
      "needs_background": "light"
     },
     "output_type": "display_data"
    }
   ],
   "source": [
    "norm_credict[['norm_Amount', 'norm_Time']].plot.hist(bins=15)"
   ]
  },
  {
   "cell_type": "markdown",
   "metadata": {},
   "source": [
    "### Train、validation、Test"
   ]
  },
  {
   "cell_type": "code",
   "execution_count": 16,
   "metadata": {},
   "outputs": [
    {
     "data": {
      "text/html": [
       "<div>\n",
       "<style scoped>\n",
       "    .dataframe tbody tr th:only-of-type {\n",
       "        vertical-align: middle;\n",
       "    }\n",
       "\n",
       "    .dataframe tbody tr th {\n",
       "        vertical-align: top;\n",
       "    }\n",
       "\n",
       "    .dataframe thead th {\n",
       "        text-align: right;\n",
       "    }\n",
       "</style>\n",
       "<table border=\"1\" class=\"dataframe\">\n",
       "  <thead>\n",
       "    <tr style=\"text-align: right;\">\n",
       "      <th></th>\n",
       "      <th>V1</th>\n",
       "      <th>V2</th>\n",
       "      <th>V3</th>\n",
       "      <th>V4</th>\n",
       "      <th>V5</th>\n",
       "      <th>V6</th>\n",
       "      <th>V7</th>\n",
       "      <th>V8</th>\n",
       "      <th>V9</th>\n",
       "      <th>V10</th>\n",
       "      <th>...</th>\n",
       "      <th>V22</th>\n",
       "      <th>V23</th>\n",
       "      <th>V24</th>\n",
       "      <th>V25</th>\n",
       "      <th>V26</th>\n",
       "      <th>V27</th>\n",
       "      <th>V28</th>\n",
       "      <th>Class</th>\n",
       "      <th>norm_Time</th>\n",
       "      <th>norm_Amount</th>\n",
       "    </tr>\n",
       "  </thead>\n",
       "  <tbody>\n",
       "    <tr>\n",
       "      <th>0</th>\n",
       "      <td>1.311977</td>\n",
       "      <td>0.428712</td>\n",
       "      <td>-1.322032</td>\n",
       "      <td>0.312937</td>\n",
       "      <td>1.096225</td>\n",
       "      <td>0.298604</td>\n",
       "      <td>0.115628</td>\n",
       "      <td>0.143085</td>\n",
       "      <td>-0.139323</td>\n",
       "      <td>-0.551840</td>\n",
       "      <td>...</td>\n",
       "      <td>-0.570676</td>\n",
       "      <td>-0.266259</td>\n",
       "      <td>-1.853705</td>\n",
       "      <td>0.659857</td>\n",
       "      <td>0.492152</td>\n",
       "      <td>-0.027744</td>\n",
       "      <td>0.009308</td>\n",
       "      <td>0</td>\n",
       "      <td>-0.393606</td>\n",
       "      <td>-0.999941</td>\n",
       "    </tr>\n",
       "    <tr>\n",
       "      <th>1</th>\n",
       "      <td>-0.711594</td>\n",
       "      <td>1.015228</td>\n",
       "      <td>1.828008</td>\n",
       "      <td>0.148312</td>\n",
       "      <td>0.021081</td>\n",
       "      <td>-1.025811</td>\n",
       "      <td>1.052790</td>\n",
       "      <td>-0.125645</td>\n",
       "      <td>-0.578916</td>\n",
       "      <td>-0.709683</td>\n",
       "      <td>...</td>\n",
       "      <td>0.405776</td>\n",
       "      <td>-0.244158</td>\n",
       "      <td>0.688225</td>\n",
       "      <td>0.351013</td>\n",
       "      <td>-0.458720</td>\n",
       "      <td>0.059689</td>\n",
       "      <td>0.100877</td>\n",
       "      <td>0</td>\n",
       "      <td>-0.541148</td>\n",
       "      <td>-0.997680</td>\n",
       "    </tr>\n",
       "    <tr>\n",
       "      <th>2</th>\n",
       "      <td>1.232986</td>\n",
       "      <td>0.305660</td>\n",
       "      <td>0.278997</td>\n",
       "      <td>1.129053</td>\n",
       "      <td>-0.328354</td>\n",
       "      <td>-0.979898</td>\n",
       "      <td>0.186548</td>\n",
       "      <td>-0.201874</td>\n",
       "      <td>0.069794</td>\n",
       "      <td>0.029434</td>\n",
       "      <td>...</td>\n",
       "      <td>0.076331</td>\n",
       "      <td>-0.096876</td>\n",
       "      <td>0.382355</td>\n",
       "      <td>0.665835</td>\n",
       "      <td>-0.327096</td>\n",
       "      <td>0.008885</td>\n",
       "      <td>0.020104</td>\n",
       "      <td>0</td>\n",
       "      <td>-0.466492</td>\n",
       "      <td>-0.999222</td>\n",
       "    </tr>\n",
       "    <tr>\n",
       "      <th>3</th>\n",
       "      <td>2.132924</td>\n",
       "      <td>-0.809094</td>\n",
       "      <td>-2.068519</td>\n",
       "      <td>-1.388547</td>\n",
       "      <td>0.819271</td>\n",
       "      <td>1.050757</td>\n",
       "      <td>-0.487103</td>\n",
       "      <td>0.206271</td>\n",
       "      <td>-0.887214</td>\n",
       "      <td>0.884778</td>\n",
       "      <td>...</td>\n",
       "      <td>1.134293</td>\n",
       "      <td>0.046651</td>\n",
       "      <td>-0.891165</td>\n",
       "      <td>0.108673</td>\n",
       "      <td>0.057943</td>\n",
       "      <td>-0.009623</td>\n",
       "      <td>-0.091336</td>\n",
       "      <td>0</td>\n",
       "      <td>0.714582</td>\n",
       "      <td>-0.999222</td>\n",
       "    </tr>\n",
       "    <tr>\n",
       "      <th>4</th>\n",
       "      <td>-0.336267</td>\n",
       "      <td>0.644847</td>\n",
       "      <td>1.641061</td>\n",
       "      <td>-0.295120</td>\n",
       "      <td>0.114248</td>\n",
       "      <td>0.034458</td>\n",
       "      <td>0.179610</td>\n",
       "      <td>0.139710</td>\n",
       "      <td>1.464250</td>\n",
       "      <td>-1.038081</td>\n",
       "      <td>...</td>\n",
       "      <td>-0.403887</td>\n",
       "      <td>-0.048047</td>\n",
       "      <td>-0.457503</td>\n",
       "      <td>-0.560795</td>\n",
       "      <td>-0.601596</td>\n",
       "      <td>0.146721</td>\n",
       "      <td>0.149378</td>\n",
       "      <td>0</td>\n",
       "      <td>0.265973</td>\n",
       "      <td>-0.999222</td>\n",
       "    </tr>\n",
       "  </tbody>\n",
       "</table>\n",
       "<p>5 rows × 31 columns</p>\n",
       "</div>"
      ],
      "text/plain": [
       "         V1        V2        V3        V4        V5        V6        V7  \\\n",
       "0  1.311977  0.428712 -1.322032  0.312937  1.096225  0.298604  0.115628   \n",
       "1 -0.711594  1.015228  1.828008  0.148312  0.021081 -1.025811  1.052790   \n",
       "2  1.232986  0.305660  0.278997  1.129053 -0.328354 -0.979898  0.186548   \n",
       "3  2.132924 -0.809094 -2.068519 -1.388547  0.819271  1.050757 -0.487103   \n",
       "4 -0.336267  0.644847  1.641061 -0.295120  0.114248  0.034458  0.179610   \n",
       "\n",
       "         V8        V9       V10  ...       V22       V23       V24       V25  \\\n",
       "0  0.143085 -0.139323 -0.551840  ... -0.570676 -0.266259 -1.853705  0.659857   \n",
       "1 -0.125645 -0.578916 -0.709683  ...  0.405776 -0.244158  0.688225  0.351013   \n",
       "2 -0.201874  0.069794  0.029434  ...  0.076331 -0.096876  0.382355  0.665835   \n",
       "3  0.206271 -0.887214  0.884778  ...  1.134293  0.046651 -0.891165  0.108673   \n",
       "4  0.139710  1.464250 -1.038081  ... -0.403887 -0.048047 -0.457503 -0.560795   \n",
       "\n",
       "        V26       V27       V28  Class  norm_Time  norm_Amount  \n",
       "0  0.492152 -0.027744  0.009308      0  -0.393606    -0.999941  \n",
       "1 -0.458720  0.059689  0.100877      0  -0.541148    -0.997680  \n",
       "2 -0.327096  0.008885  0.020104      0  -0.466492    -0.999222  \n",
       "3  0.057943 -0.009623 -0.091336      0   0.714582    -0.999222  \n",
       "4 -0.601596  0.146721  0.149378      0   0.265973    -0.999222  \n",
       "\n",
       "[5 rows x 31 columns]"
      ]
     },
     "execution_count": 16,
     "metadata": {},
     "output_type": "execute_result"
    }
   ],
   "source": [
    "norm_credict = shuffle(norm_credict)\n",
    "norm_credict = norm_credict.reset_index(drop=True, inplace=False)\n",
    "norm_credict.head()"
   ]
  },
  {
   "cell_type": "code",
   "execution_count": 17,
   "metadata": {},
   "outputs": [],
   "source": [
    "X = norm_credict.drop('Class', 1)\n",
    "y = norm_credict['Class']"
   ]
  },
  {
   "cell_type": "code",
   "execution_count": 18,
   "metadata": {},
   "outputs": [
    {
     "data": {
      "text/plain": [
       "((256326, 30), (28481, 30), (256326,), (28481,))"
      ]
     },
     "execution_count": 18,
     "metadata": {},
     "output_type": "execute_result"
    }
   ],
   "source": [
    "from sklearn.model_selection import train_test_split\n",
    "X_train, X_test, y_train, y_test = train_test_split(X,\n",
    "                                                    y, \n",
    "                                                    test_size=0.1, \n",
    "                                                    random_state=42)\n",
    "\n",
    "\n",
    "\n",
    "X_train.shape, X_test.shape, y_train.shape, y_test.shape"
   ]
  },
  {
   "cell_type": "code",
   "execution_count": 19,
   "metadata": {},
   "outputs": [
    {
     "data": {
      "text/plain": [
       "((230693, 30), (25633, 30), (230693,), (25633,))"
      ]
     },
     "execution_count": 19,
     "metadata": {},
     "output_type": "execute_result"
    }
   ],
   "source": [
    "X_train, X_val, y_train, y_val = train_test_split(X_train,\n",
    "                                                  y_train, \n",
    "                                                  test_size=0.1, \n",
    "                                                  random_state=42)\n",
    "X_train.shape, X_val.shape, y_train.shape, y_val.shape"
   ]
  },
  {
   "cell_type": "code",
   "execution_count": 20,
   "metadata": {},
   "outputs": [
    {
     "data": {
      "text/html": [
       "<div>\n",
       "<style scoped>\n",
       "    .dataframe tbody tr th:only-of-type {\n",
       "        vertical-align: middle;\n",
       "    }\n",
       "\n",
       "    .dataframe tbody tr th {\n",
       "        vertical-align: top;\n",
       "    }\n",
       "\n",
       "    .dataframe thead th {\n",
       "        text-align: right;\n",
       "    }\n",
       "</style>\n",
       "<table border=\"1\" class=\"dataframe\">\n",
       "  <thead>\n",
       "    <tr style=\"text-align: right;\">\n",
       "      <th></th>\n",
       "      <th>V1</th>\n",
       "      <th>V2</th>\n",
       "      <th>V3</th>\n",
       "      <th>V4</th>\n",
       "      <th>V5</th>\n",
       "      <th>V6</th>\n",
       "      <th>V7</th>\n",
       "      <th>V8</th>\n",
       "      <th>V9</th>\n",
       "      <th>V10</th>\n",
       "      <th>...</th>\n",
       "      <th>V22</th>\n",
       "      <th>V23</th>\n",
       "      <th>V24</th>\n",
       "      <th>V25</th>\n",
       "      <th>V26</th>\n",
       "      <th>V27</th>\n",
       "      <th>V28</th>\n",
       "      <th>norm_Time</th>\n",
       "      <th>norm_Amount</th>\n",
       "      <th>Class</th>\n",
       "    </tr>\n",
       "  </thead>\n",
       "  <tbody>\n",
       "    <tr>\n",
       "      <th>283839</th>\n",
       "      <td>1.827838</td>\n",
       "      <td>-0.691294</td>\n",
       "      <td>-0.399843</td>\n",
       "      <td>0.480063</td>\n",
       "      <td>-0.903512</td>\n",
       "      <td>-0.667852</td>\n",
       "      <td>-0.506814</td>\n",
       "      <td>-0.071461</td>\n",
       "      <td>1.133561</td>\n",
       "      <td>0.044417</td>\n",
       "      <td>...</td>\n",
       "      <td>0.603042</td>\n",
       "      <td>0.124052</td>\n",
       "      <td>0.022438</td>\n",
       "      <td>-0.392897</td>\n",
       "      <td>0.533242</td>\n",
       "      <td>-0.043891</td>\n",
       "      <td>-0.033180</td>\n",
       "      <td>0.817272</td>\n",
       "      <td>-0.992643</td>\n",
       "      <td>0</td>\n",
       "    </tr>\n",
       "    <tr>\n",
       "      <th>155249</th>\n",
       "      <td>1.291113</td>\n",
       "      <td>-0.715701</td>\n",
       "      <td>0.033093</td>\n",
       "      <td>-0.847459</td>\n",
       "      <td>-0.956826</td>\n",
       "      <td>-0.791990</td>\n",
       "      <td>-0.300626</td>\n",
       "      <td>-0.173733</td>\n",
       "      <td>-1.009401</td>\n",
       "      <td>0.719796</td>\n",
       "      <td>...</td>\n",
       "      <td>-0.646046</td>\n",
       "      <td>-0.040506</td>\n",
       "      <td>0.412691</td>\n",
       "      <td>0.304693</td>\n",
       "      <td>1.449936</td>\n",
       "      <td>-0.110352</td>\n",
       "      <td>-0.010037</td>\n",
       "      <td>-0.085039</td>\n",
       "      <td>-0.995882</td>\n",
       "      <td>0</td>\n",
       "    </tr>\n",
       "    <tr>\n",
       "      <th>181962</th>\n",
       "      <td>2.079604</td>\n",
       "      <td>-0.034048</td>\n",
       "      <td>-1.492180</td>\n",
       "      <td>0.152462</td>\n",
       "      <td>0.284079</td>\n",
       "      <td>-0.779862</td>\n",
       "      <td>0.152907</td>\n",
       "      <td>-0.265942</td>\n",
       "      <td>0.747614</td>\n",
       "      <td>-0.109341</td>\n",
       "      <td>...</td>\n",
       "      <td>0.920398</td>\n",
       "      <td>0.007094</td>\n",
       "      <td>0.628484</td>\n",
       "      <td>0.352966</td>\n",
       "      <td>-0.443028</td>\n",
       "      <td>0.007062</td>\n",
       "      <td>-0.048344</td>\n",
       "      <td>0.316323</td>\n",
       "      <td>-0.999922</td>\n",
       "      <td>0</td>\n",
       "    </tr>\n",
       "    <tr>\n",
       "      <th>169990</th>\n",
       "      <td>1.434057</td>\n",
       "      <td>-0.106169</td>\n",
       "      <td>-1.419171</td>\n",
       "      <td>4.046839</td>\n",
       "      <td>0.484122</td>\n",
       "      <td>-0.462847</td>\n",
       "      <td>1.037695</td>\n",
       "      <td>-0.452478</td>\n",
       "      <td>-1.363841</td>\n",
       "      <td>1.355532</td>\n",
       "      <td>...</td>\n",
       "      <td>0.833856</td>\n",
       "      <td>-0.325043</td>\n",
       "      <td>0.115109</td>\n",
       "      <td>0.366309</td>\n",
       "      <td>0.257761</td>\n",
       "      <td>-0.106595</td>\n",
       "      <td>-0.013739</td>\n",
       "      <td>0.374323</td>\n",
       "      <td>-0.978210</td>\n",
       "      <td>0</td>\n",
       "    </tr>\n",
       "    <tr>\n",
       "      <th>121783</th>\n",
       "      <td>-3.870757</td>\n",
       "      <td>5.290932</td>\n",
       "      <td>-4.679543</td>\n",
       "      <td>1.080202</td>\n",
       "      <td>-1.254687</td>\n",
       "      <td>-2.551886</td>\n",
       "      <td>-0.699936</td>\n",
       "      <td>1.640723</td>\n",
       "      <td>1.969917</td>\n",
       "      <td>2.561103</td>\n",
       "      <td>...</td>\n",
       "      <td>-0.568169</td>\n",
       "      <td>0.556371</td>\n",
       "      <td>0.266707</td>\n",
       "      <td>0.330016</td>\n",
       "      <td>-0.340496</td>\n",
       "      <td>1.314330</td>\n",
       "      <td>0.675219</td>\n",
       "      <td>-0.068348</td>\n",
       "      <td>-0.999861</td>\n",
       "      <td>0</td>\n",
       "    </tr>\n",
       "  </tbody>\n",
       "</table>\n",
       "<p>5 rows × 31 columns</p>\n",
       "</div>"
      ],
      "text/plain": [
       "              V1        V2        V3        V4        V5        V6        V7  \\\n",
       "283839  1.827838 -0.691294 -0.399843  0.480063 -0.903512 -0.667852 -0.506814   \n",
       "155249  1.291113 -0.715701  0.033093 -0.847459 -0.956826 -0.791990 -0.300626   \n",
       "181962  2.079604 -0.034048 -1.492180  0.152462  0.284079 -0.779862  0.152907   \n",
       "169990  1.434057 -0.106169 -1.419171  4.046839  0.484122 -0.462847  1.037695   \n",
       "121783 -3.870757  5.290932 -4.679543  1.080202 -1.254687 -2.551886 -0.699936   \n",
       "\n",
       "              V8        V9       V10  ...       V22       V23       V24  \\\n",
       "283839 -0.071461  1.133561  0.044417  ...  0.603042  0.124052  0.022438   \n",
       "155249 -0.173733 -1.009401  0.719796  ... -0.646046 -0.040506  0.412691   \n",
       "181962 -0.265942  0.747614 -0.109341  ...  0.920398  0.007094  0.628484   \n",
       "169990 -0.452478 -1.363841  1.355532  ...  0.833856 -0.325043  0.115109   \n",
       "121783  1.640723  1.969917  2.561103  ... -0.568169  0.556371  0.266707   \n",
       "\n",
       "             V25       V26       V27       V28  norm_Time  norm_Amount  Class  \n",
       "283839 -0.392897  0.533242 -0.043891 -0.033180   0.817272    -0.992643      0  \n",
       "155249  0.304693  1.449936 -0.110352 -0.010037  -0.085039    -0.995882      0  \n",
       "181962  0.352966 -0.443028  0.007062 -0.048344   0.316323    -0.999922      0  \n",
       "169990  0.366309  0.257761 -0.106595 -0.013739   0.374323    -0.978210      0  \n",
       "121783  0.330016 -0.340496  1.314330  0.675219  -0.068348    -0.999861      0  \n",
       "\n",
       "[5 rows x 31 columns]"
      ]
     },
     "execution_count": 20,
     "metadata": {},
     "output_type": "execute_result"
    }
   ],
   "source": [
    "validation_data = pd.concat([X_val, y_val], 1)\n",
    "validation_data.head()"
   ]
  },
  {
   "cell_type": "markdown",
   "metadata": {},
   "source": [
    "### SMOTE  (only on train data)"
   ]
  },
  {
   "cell_type": "code",
   "execution_count": 21,
   "metadata": {},
   "outputs": [],
   "source": [
    "from keras.utils import np_utils\n",
    "from collections import Counter\n",
    "\n",
    "from imblearn.over_sampling import SMOTE"
   ]
  },
  {
   "cell_type": "code",
   "execution_count": 22,
   "metadata": {},
   "outputs": [
    {
     "name": "stdout",
     "output_type": "stream",
     "text": [
      "Before resampled dataset shape Counter({0: 230286, 1: 407})\n",
      "Resampled dataset shape Counter({0: 230286, 1: 230286})\n"
     ]
    }
   ],
   "source": [
    "\n",
    "\n",
    "print('Before resampled dataset shape %s' % Counter(y_train))\n",
    "sm = SMOTE(random_state=42)\n",
    "X_train_smote, y_train_smote = sm.fit_resample(X_train, y_train)\n",
    "print('Resampled dataset shape %s' % Counter(y_train_smote))\n"
   ]
  },
  {
   "cell_type": "markdown",
   "metadata": {},
   "source": [
    "# Train"
   ]
  },
  {
   "cell_type": "code",
   "execution_count": 23,
   "metadata": {},
   "outputs": [],
   "source": [
    "from util import *\n",
    "import numpy as np"
   ]
  },
  {
   "cell_type": "code",
   "execution_count": 24,
   "metadata": {},
   "outputs": [],
   "source": [
    "import tensorflow as tf\n",
    "tf.random.set_seed(50)"
   ]
  },
  {
   "cell_type": "code",
   "execution_count": 25,
   "metadata": {},
   "outputs": [],
   "source": [
    "class Encoder(tf.keras.layers.Layer):\n",
    "    def __init__(self):\n",
    "        super().__init__()\n",
    "        self.dense_128 = tf.keras.layers.Dense(128)\n",
    "        self.dense_64 = tf.keras.layers.Dense(64)\n",
    "        self.dense_32 = tf.keras.layers.Dense(32)\n",
    "        self.dense_8 = tf.keras.layers.Dense(8)\n",
    "\n",
    "\n",
    "    def call(self, inputs):\n",
    "        x = self.dense_128(inputs)\n",
    "        x = self.dense_64(x)\n",
    "        x = self.dense_32(x)\n",
    "        x = self.dense_8(x)\n",
    "        return x\n",
    "    \n",
    "class Decoder(tf.keras.layers.Layer):\n",
    "    def __init__(self):\n",
    "        super().__init__()\n",
    "        self.dense_8 = tf.keras.layers.Dense(8)\n",
    "        self.dense_32 = tf.keras.layers.Dense(32)\n",
    "        self.dense_64 = tf.keras.layers.Dense(64)\n",
    "        self.dense_128 = tf.keras.layers.Dense(128)\n",
    "        \n",
    "    def call(self, inputs):\n",
    "        x = self.dense_8(inputs)\n",
    "        x = self.dense_32(x)\n",
    "        x = self.dense_64(x)\n",
    "        x = self.dense_128(x)\n",
    "        return x"
   ]
  },
  {
   "cell_type": "code",
   "execution_count": 26,
   "metadata": {},
   "outputs": [],
   "source": [
    "class CredictFraudDetect(tf.keras.Model):\n",
    "    def __init__(self):\n",
    "        super().__init__()\n",
    "        \n",
    "        self.encoder = Encoder()\n",
    "        self.decoder = Decoder()\n",
    "        \n",
    "        self.dense = tf.keras.layers.Dense(2, activation='softmax')\n",
    "    def call(self, inp):\n",
    "        x = self.encoder(inp)\n",
    "        x = self.decoder(x)\n",
    "        x = self.dense(x)\n",
    "        \n",
    "        return x"
   ]
  },
  {
   "cell_type": "code",
   "execution_count": 27,
   "metadata": {},
   "outputs": [],
   "source": [
    "X_train_smote, y_train_smote = np.array(X_train_smote), np.array(y_train_smote)"
   ]
  },
  {
   "cell_type": "code",
   "execution_count": 28,
   "metadata": {},
   "outputs": [
    {
     "data": {
      "text/plain": [
       "array([[1., 0.],\n",
       "       [1., 0.],\n",
       "       [1., 0.],\n",
       "       ...,\n",
       "       [0., 1.],\n",
       "       [0., 1.],\n",
       "       [0., 1.]], dtype=float32)"
      ]
     },
     "execution_count": 28,
     "metadata": {},
     "output_type": "execute_result"
    }
   ],
   "source": [
    "\n",
    "y_train_smote = tf.keras.utils.to_categorical(y_train_smote)\n",
    "y_train_smote"
   ]
  },
  {
   "cell_type": "code",
   "execution_count": 29,
   "metadata": {},
   "outputs": [],
   "source": [
    "import tensorflow as tf\n",
    "import tensorflow.keras.backend as K\n",
    "from tensorflow.keras.callbacks import Callback\n",
    "\n",
    "\n",
    "class WarmUpLearningRateSchedule(Callback):\n",
    "    def __init__(self, warmup_epoch):\n",
    "        super(WarmUpLearningRateSchedule).__init__()\n",
    "        self.warmup_step = warmup_epoch\n",
    "        self.schedule = tf.keras.optimizers.schedules.ExponentialDecay\n",
    "\n",
    "    def on_epoch_begin(self, epoch, logs=None):\n",
    "        if not hasattr(self.model.optimizer, 'lr'):\n",
    "            raise ValueError('Optimizer must have a \"lr\" attribute.')\n",
    "\n",
    "        so_far_lr = self._get_lr()\n",
    "        if epoch <= self.warmup_step:\n",
    "            lr = so_far_lr * (1 + 0.5)\n",
    "            tf.keras.backend.set_value(self.model.optimizer.lr, lr)\n",
    "            print('In Warm up stage')\n",
    "\n",
    "        else:\n",
    "            lr = self._get_lr()\n",
    "            update_lr = self.schedule(lr, decay_steps=100, decay_rate=0.1)(epoch)\n",
    "#             update_lr = float(tf.keras.backend.get_value(self.model.optimizer.learning_rate))\n",
    "            update_lr = 0.001 if update_lr < 0.001 else update_lr\n",
    "            tf.keras.backend.set_value(self.model.optimizer.lr, update_lr)\n",
    "            \n",
    "        print(\"\\nEpoch %05d: Learning rate is %6.4f.\" % (epoch, self._get_lr()))\n",
    "        \n",
    "        \n",
    "    def _get_lr(self):\n",
    "        \n",
    "        return float(tf.keras.backend.get_value(self.model.optimizer.learning_rate))\n",
    "        \n",
    "reduce_lr = WarmUpLearningRateSchedule(warmup_epoch=3)"
   ]
  },
  {
   "cell_type": "code",
   "execution_count": 30,
   "metadata": {},
   "outputs": [],
   "source": [
    "# reduce_lr =tf.keras.callbacks.ReduceLROnPlateau(monitor='val_loss', factor=0.2,\n",
    "#                               patience=2, min_lr=0.000001, verbose=1)"
   ]
  },
  {
   "cell_type": "code",
   "execution_count": 31,
   "metadata": {},
   "outputs": [],
   "source": [
    "\n",
    "loss = tf.keras.losses.CategoricalCrossentropy(from_logits=False)\n",
    "\n",
    "i = tf.keras.layers.Input(shape=X_train_smote[0].shape)\n",
    "out = CredictFraudDetect()(i)\n",
    "model = tf.keras.Model(i, out)\n",
    "model.compile(loss=loss,\n",
    "              optimizer=tf.keras.optimizers.Adam(),\n",
    "              metrics=['accuracy', tf.keras.metrics.AUC(), tf.keras.metrics.Recall(class_id=1)])\n"
   ]
  },
  {
   "cell_type": "code",
   "execution_count": 32,
   "metadata": {},
   "outputs": [
    {
     "name": "stdout",
     "output_type": "stream",
     "text": [
      "Model: \"model\"\n",
      "_________________________________________________________________\n",
      "Layer (type)                 Output Shape              Param #   \n",
      "=================================================================\n",
      "input_1 (InputLayer)         [(None, 30)]              0         \n",
      "_________________________________________________________________\n",
      "credict_fraud_detect (Credic (None, 2)                 25618     \n",
      "=================================================================\n",
      "Total params: 25,618\n",
      "Trainable params: 25,618\n",
      "Non-trainable params: 0\n",
      "_________________________________________________________________\n"
     ]
    }
   ],
   "source": [
    "model.summary()"
   ]
  },
  {
   "cell_type": "code",
   "execution_count": 33,
   "metadata": {},
   "outputs": [
    {
     "name": "stdout",
     "output_type": "stream",
     "text": [
      "Epoch 1/50\n",
      "In Warm up stage\n",
      "\n",
      "Epoch 00000: Learning rate is 0.0015.\n",
      "7197/7197 [==============================] - 10s 1ms/step - loss: 0.1541 - accuracy: 0.9370 - auc: 0.9857 - recall: 0.9036 - val_loss: 0.1080 - val_accuracy: 0.9837 - val_auc: 0.9957 - val_recall: 0.9091\n",
      "Epoch 2/50\n",
      "In Warm up stage\n",
      "\n",
      "Epoch 00001: Learning rate is 0.0022.\n",
      "7197/7197 [==============================] - 8s 1ms/step - loss: 0.1471 - accuracy: 0.9399 - auc: 0.9874 - recall: 0.9046 - val_loss: 0.1172 - val_accuracy: 0.9871 - val_auc: 0.9973 - val_recall: 0.9091\n",
      "Epoch 3/50\n",
      "In Warm up stage\n",
      "\n",
      "Epoch 00002: Learning rate is 0.0034.\n",
      "7197/7197 [==============================] - 8s 1ms/step - loss: 9.0555 - accuracy: 0.9305 - auc: 0.9596 - recall: 0.9141 - val_loss: 0.2460 - val_accuracy: 0.9524 - val_auc: 0.9800 - val_recall: 0.9318\n",
      "Epoch 4/50\n",
      "In Warm up stage\n",
      "\n",
      "Epoch 00003: Learning rate is 0.0051.\n",
      "7197/7197 [==============================] - 8s 1ms/step - loss: 110.7466 - accuracy: 0.9257 - auc: 0.9463 - recall: 0.9139 - val_loss: 5.3837 - val_accuracy: 0.9074 - val_auc: 0.9444 - val_recall: 0.8409\n",
      "Epoch 5/50\n",
      "\n",
      "Epoch 00004: Learning rate is 0.0046.\n",
      "7197/7197 [==============================] - 8s 1ms/step - loss: 1.2947 - accuracy: 0.9276 - auc: 0.9622 - recall: 0.9184 - val_loss: 0.2410 - val_accuracy: 0.9506 - val_auc: 0.9813 - val_recall: 0.9318\n",
      "Epoch 6/50\n",
      "\n",
      "Epoch 00005: Learning rate is 0.0041.\n",
      "7197/7197 [==============================] - 8s 1ms/step - loss: 4.8292 - accuracy: 0.9389 - auc: 0.9839 - recall: 0.9091 - val_loss: 11.3942 - val_accuracy: 0.8689 - val_auc: 0.8829 - val_recall: 0.9318\n",
      "Epoch 7/50\n",
      "\n",
      "Epoch 00006: Learning rate is 0.0036.\n",
      "7197/7197 [==============================] - 8s 1ms/step - loss: 2.6049 - accuracy: 0.9265 - auc: 0.9506 - recall: 0.9193 - val_loss: 226.5827 - val_accuracy: 0.8123 - val_auc: 0.8133 - val_recall: 0.9773\n",
      "Epoch 8/50\n",
      "\n",
      "Epoch 00007: Learning rate is 0.0031.\n",
      "7197/7197 [==============================] - 8s 1ms/step - loss: 10.8895 - accuracy: 0.9226 - auc: 0.9414 - recall: 0.9188 - val_loss: 0.1475 - val_accuracy: 0.9804 - val_auc: 0.9946 - val_recall: 0.8864\n",
      "Epoch 9/50\n",
      "\n",
      "Epoch 00008: Learning rate is 0.0025.\n",
      "7197/7197 [==============================] - 8s 1ms/step - loss: 0.5826 - accuracy: 0.9358 - auc: 0.9759 - recall: 0.9133 - val_loss: 0.1023 - val_accuracy: 0.9827 - val_auc: 0.9960 - val_recall: 0.9318\n",
      "Epoch 10/50\n",
      "\n",
      "Epoch 00009: Learning rate is 0.0021.\n",
      "7197/7197 [==============================] - 8s 1ms/step - loss: 0.1455 - accuracy: 0.9410 - auc: 0.9878 - recall: 0.9074 - val_loss: 0.1572 - val_accuracy: 0.9608 - val_auc: 0.9843 - val_recall: 0.9318\n",
      "Epoch 11/50\n",
      "\n",
      "Epoch 00010: Learning rate is 0.0016.\n",
      "7197/7197 [==============================] - 8s 1ms/step - loss: 0.1464 - accuracy: 0.9406 - auc: 0.9876 - recall: 0.9062 - val_loss: 0.1461 - val_accuracy: 0.9660 - val_auc: 0.9883 - val_recall: 0.9318\n",
      "Epoch 12/50\n",
      "\n",
      "Epoch 00011: Learning rate is 0.0013.\n",
      "7197/7197 [==============================] - 8s 1ms/step - loss: 0.1422 - accuracy: 0.9413 - auc: 0.9882 - recall: 0.9075 - val_loss: 0.1178 - val_accuracy: 0.9761 - val_auc: 0.9929 - val_recall: 0.9318\n",
      "Epoch 13/50\n",
      "\n",
      "Epoch 00012: Learning rate is 0.0010.\n",
      "7197/7197 [==============================] - 8s 1ms/step - loss: 0.1411 - accuracy: 0.9416 - auc: 0.9885 - recall: 0.9072 - val_loss: 0.1138 - val_accuracy: 0.9788 - val_auc: 0.9942 - val_recall: 0.9318\n",
      "Epoch 14/50\n",
      "\n",
      "Epoch 00013: Learning rate is 0.0010.\n",
      "7197/7197 [==============================] - 9s 1ms/step - loss: 0.1407 - accuracy: 0.9417 - auc: 0.9885 - recall: 0.9072 - val_loss: 0.1210 - val_accuracy: 0.9769 - val_auc: 0.9935 - val_recall: 0.9318\n",
      "Epoch 15/50\n",
      "\n",
      "Epoch 00014: Learning rate is 0.0010.\n",
      "7197/7197 [==============================] - 8s 1ms/step - loss: 0.1418 - accuracy: 0.9411 - auc: 0.9884 - recall: 0.9068 - val_loss: 0.1234 - val_accuracy: 0.9700 - val_auc: 0.9914 - val_recall: 0.9318\n",
      "Epoch 16/50\n",
      "\n",
      "Epoch 00015: Learning rate is 0.0010.\n",
      "7197/7197 [==============================] - 8s 1ms/step - loss: 0.1402 - accuracy: 0.9421 - auc: 0.9886 - recall: 0.9084 - val_loss: 0.1121 - val_accuracy: 0.9784 - val_auc: 0.9942 - val_recall: 0.9318\n",
      "Epoch 17/50\n",
      "\n",
      "Epoch 00016: Learning rate is 0.0010.\n",
      "7197/7197 [==============================] - 8s 1ms/step - loss: 0.1406 - accuracy: 0.9417 - auc: 0.9886 - recall: 0.9074 - val_loss: 0.1127 - val_accuracy: 0.9803 - val_auc: 0.9952 - val_recall: 0.9318\n",
      "Epoch 18/50\n",
      "\n",
      "Epoch 00017: Learning rate is 0.0010.\n",
      "7197/7197 [==============================] - 8s 1ms/step - loss: 0.1406 - accuracy: 0.9413 - auc: 0.9885 - recall: 0.9072 - val_loss: 0.1308 - val_accuracy: 0.9695 - val_auc: 0.9913 - val_recall: 0.9318\n",
      "Epoch 19/50\n",
      "\n",
      "Epoch 00018: Learning rate is 0.0010.\n",
      "7197/7197 [==============================] - 8s 1ms/step - loss: 0.1404 - accuracy: 0.9421 - auc: 0.9886 - recall: 0.9084 - val_loss: 0.1210 - val_accuracy: 0.9734 - val_auc: 0.9920 - val_recall: 0.9318\n",
      "Epoch 20/50\n",
      "\n",
      "Epoch 00019: Learning rate is 0.0010.\n",
      "7197/7197 [==============================] - 8s 1ms/step - loss: 0.1394 - accuracy: 0.9421 - auc: 0.9887 - recall: 0.9086 - val_loss: 0.1168 - val_accuracy: 0.9781 - val_auc: 0.9936 - val_recall: 0.9318\n",
      "Epoch 21/50\n",
      "\n",
      "Epoch 00020: Learning rate is 0.0010.\n",
      "7197/7197 [==============================] - 8s 1ms/step - loss: 0.1402 - accuracy: 0.9422 - auc: 0.9886 - recall: 0.9082 - val_loss: 0.1248 - val_accuracy: 0.9788 - val_auc: 0.9944 - val_recall: 0.9318\n",
      "Epoch 22/50\n",
      "\n",
      "Epoch 00021: Learning rate is 0.0010.\n",
      "7197/7197 [==============================] - 8s 1ms/step - loss: 0.1412 - accuracy: 0.9407 - auc: 0.9884 - recall: 0.9065 - val_loss: 0.1147 - val_accuracy: 0.9773 - val_auc: 0.9938 - val_recall: 0.9318\n",
      "Epoch 23/50\n",
      "\n",
      "Epoch 00022: Learning rate is 0.0010.\n",
      "7197/7197 [==============================] - 8s 1ms/step - loss: 0.1404 - accuracy: 0.9414 - auc: 0.9885 - recall: 0.9076 - val_loss: 0.1219 - val_accuracy: 0.9800 - val_auc: 0.9946 - val_recall: 0.9318\n",
      "Epoch 24/50\n",
      "\n",
      "Epoch 00023: Learning rate is 0.0010.\n",
      "7197/7197 [==============================] - 8s 1ms/step - loss: 0.1405 - accuracy: 0.9416 - auc: 0.9885 - recall: 0.9075 - val_loss: 0.1092 - val_accuracy: 0.9810 - val_auc: 0.9953 - val_recall: 0.9318\n",
      "Epoch 25/50\n",
      "\n",
      "Epoch 00024: Learning rate is 0.0010.\n",
      "7197/7197 [==============================] - 8s 1ms/step - loss: 0.1400 - accuracy: 0.9418 - auc: 0.9886 - recall: 0.9074 - val_loss: 0.1237 - val_accuracy: 0.9744 - val_auc: 0.9922 - val_recall: 0.9318\n",
      "Epoch 26/50\n",
      "\n",
      "Epoch 00025: Learning rate is 0.0010.\n",
      "7197/7197 [==============================] - 8s 1ms/step - loss: 0.1407 - accuracy: 0.9418 - auc: 0.9885 - recall: 0.9076 - val_loss: 0.1376 - val_accuracy: 0.9674 - val_auc: 0.9898 - val_recall: 0.9318\n",
      "Epoch 27/50\n",
      "\n",
      "Epoch 00026: Learning rate is 0.0010.\n",
      "7197/7197 [==============================] - 8s 1ms/step - loss: 0.1416 - accuracy: 0.9414 - auc: 0.9884 - recall: 0.9073 - val_loss: 0.1198 - val_accuracy: 0.9726 - val_auc: 0.9916 - val_recall: 0.9318\n",
      "Epoch 28/50\n",
      "\n",
      "Epoch 00027: Learning rate is 0.0010.\n",
      "7197/7197 [==============================] - 8s 1ms/step - loss: 0.1430 - accuracy: 0.9406 - auc: 0.9882 - recall: 0.9057 - val_loss: 0.1317 - val_accuracy: 0.9692 - val_auc: 0.9904 - val_recall: 0.9318\n",
      "Epoch 29/50\n",
      "\n",
      "Epoch 00028: Learning rate is 0.0010.\n",
      "7197/7197 [==============================] - 8s 1ms/step - loss: 0.1409 - accuracy: 0.9412 - auc: 0.9885 - recall: 0.9070 - val_loss: 0.1163 - val_accuracy: 0.9774 - val_auc: 0.9937 - val_recall: 0.9318\n"
     ]
    },
    {
     "data": {
      "text/plain": [
       "<tensorflow.python.keras.callbacks.History at 0x7f9383f75d90>"
      ]
     },
     "execution_count": 33,
     "metadata": {},
     "output_type": "execute_result"
    }
   ],
   "source": [
    "es = tf.keras.callbacks.EarlyStopping(patience=20)\n",
    "model.fit(X_train_smote, \n",
    "          y_train_smote, \n",
    "          batch_size=64, \n",
    "          epochs=50, \n",
    "          verbose=1,\n",
    "          validation_data=(X_val, tf.keras.utils.to_categorical(y_val)), \n",
    "          callbacks=[es, reduce_lr])"
   ]
  },
  {
   "cell_type": "markdown",
   "metadata": {},
   "source": [
    "# Test"
   ]
  },
  {
   "cell_type": "code",
   "execution_count": 34,
   "metadata": {},
   "outputs": [
    {
     "data": {
      "text/plain": [
       "array([[8.7401783e-01, 1.2598221e-01],\n",
       "       [9.8051000e-01, 1.9489979e-02],\n",
       "       [9.9965143e-01, 3.4856371e-04],\n",
       "       ...,\n",
       "       [3.4149188e-01, 6.5850806e-01],\n",
       "       [9.6100831e-01, 3.8991656e-02],\n",
       "       [9.9983633e-01, 1.6368869e-04]], dtype=float32)"
      ]
     },
     "execution_count": 34,
     "metadata": {},
     "output_type": "execute_result"
    }
   ],
   "source": [
    "pred = model.predict(X_test)\n",
    "pred"
   ]
  },
  {
   "cell_type": "code",
   "execution_count": 35,
   "metadata": {},
   "outputs": [],
   "source": [
    "from sklearn.metrics import confusion_matrix\n",
    "from sklearn.metrics import classification_report\n",
    "from util import plot_confusion_matrix"
   ]
  },
  {
   "cell_type": "code",
   "execution_count": 36,
   "metadata": {},
   "outputs": [
    {
     "name": "stdout",
     "output_type": "stream",
     "text": [
      "891/891 [==============================] - 1s 606us/step - loss: 0.1117 - accuracy: 0.9786 - auc: 0.9940 - recall: 0.9268\n"
     ]
    },
    {
     "data": {
      "text/plain": [
       "[0.11173190921545029,\n",
       " 0.9786173105239868,\n",
       " 0.9940088987350464,\n",
       " 0.9268292784690857]"
      ]
     },
     "execution_count": 36,
     "metadata": {},
     "output_type": "execute_result"
    }
   ],
   "source": [
    "model.evaluate(X_test, tf.keras.utils.to_categorical(y_test))"
   ]
  },
  {
   "cell_type": "code",
   "execution_count": 37,
   "metadata": {},
   "outputs": [
    {
     "name": "stdout",
     "output_type": "stream",
     "text": [
      "Confusion matrix, without normalization\n",
      "[[27834   606]\n",
      " [    3    38]]\n"
     ]
    },
    {
     "data": {
      "image/png": "[encoded data removed]",
      "text/plain": [
       "<Figure size 432x288 with 2 Axes>"
      ]
     },
     "metadata": {
      "needs_background": "light"
     },
     "output_type": "display_data"
    }
   ],
   "source": [
    "plot_confusion_matrix(confusion_matrix(y_test, np.argmax(pred, -1)), classes=['Normal', 'Fraud'])\n"
   ]
  },
  {
   "cell_type": "code",
   "execution_count": 38,
   "metadata": {},
   "outputs": [
    {
     "name": "stdout",
     "output_type": "stream",
     "text": [
      "              precision    recall  f1-score   support\n",
      "\n",
      "           0       1.00      0.98      0.99     28440\n",
      "           1       0.06      0.93      0.11        41\n",
      "\n",
      "    accuracy                           0.98     28481\n",
      "   macro avg       0.53      0.95      0.55     28481\n",
      "weighted avg       1.00      0.98      0.99     28481\n",
      "\n"
     ]
    }
   ],
   "source": [
    "print(classification_report(y_test, np.argmax(pred, -1), target_names=['0', '1']))"
   ]
  },
  {
   "cell_type": "markdown",
   "metadata": {},
   "source": [
    "## the wrong prediction in test data\n",
    "\n"
   ]
  },
  {
   "cell_type": "code",
   "execution_count": 39,
   "metadata": {},
   "outputs": [],
   "source": [
    "test_data = pd.concat([X_test, y_test], 1)\n",
    "test_data['predict'] =  np.argmax(pred, -1)\n",
    "test_data['wrong_predict_with_class_0'] = np.where((test_data.predict==1) & (test_data.Class==0), 1, 0)\n",
    "test_data['wrong_predict_with_class_1'] = np.where((test_data.predict==0) & (test_data.Class==1), 1, 0)"
   ]
  },
  {
   "cell_type": "code",
   "execution_count": 40,
   "metadata": {},
   "outputs": [
    {
     "data": {
      "text/html": [
       "<div>\n",
       "<style scoped>\n",
       "    .dataframe tbody tr th:only-of-type {\n",
       "        vertical-align: middle;\n",
       "    }\n",
       "\n",
       "    .dataframe tbody tr th {\n",
       "        vertical-align: top;\n",
       "    }\n",
       "\n",
       "    .dataframe thead th {\n",
       "        text-align: right;\n",
       "    }\n",
       "</style>\n",
       "<table border=\"1\" class=\"dataframe\">\n",
       "  <thead>\n",
       "    <tr style=\"text-align: right;\">\n",
       "      <th></th>\n",
       "      <th>V1</th>\n",
       "      <th>V2</th>\n",
       "      <th>V3</th>\n",
       "      <th>V4</th>\n",
       "      <th>V5</th>\n",
       "      <th>V6</th>\n",
       "      <th>V7</th>\n",
       "      <th>V8</th>\n",
       "      <th>V9</th>\n",
       "      <th>V10</th>\n",
       "      <th>...</th>\n",
       "      <th>V25</th>\n",
       "      <th>V26</th>\n",
       "      <th>V27</th>\n",
       "      <th>V28</th>\n",
       "      <th>norm_Time</th>\n",
       "      <th>norm_Amount</th>\n",
       "      <th>Class</th>\n",
       "      <th>predict</th>\n",
       "      <th>wrong_predict_with_class_0</th>\n",
       "      <th>wrong_predict_with_class_1</th>\n",
       "    </tr>\n",
       "  </thead>\n",
       "  <tbody>\n",
       "    <tr>\n",
       "      <th>43428</th>\n",
       "      <td>-0.441225</td>\n",
       "      <td>0.159937</td>\n",
       "      <td>-1.340159</td>\n",
       "      <td>-1.528802</td>\n",
       "      <td>1.386432</td>\n",
       "      <td>-1.586516</td>\n",
       "      <td>1.083920</td>\n",
       "      <td>-0.820373</td>\n",
       "      <td>0.226273</td>\n",
       "      <td>0.203437</td>\n",
       "      <td>...</td>\n",
       "      <td>0.368505</td>\n",
       "      <td>-0.079645</td>\n",
       "      <td>-0.299093</td>\n",
       "      <td>-0.132691</td>\n",
       "      <td>0.127575</td>\n",
       "      <td>-0.998836</td>\n",
       "      <td>0</td>\n",
       "      <td>0</td>\n",
       "      <td>0</td>\n",
       "      <td>0</td>\n",
       "    </tr>\n",
       "    <tr>\n",
       "      <th>49906</th>\n",
       "      <td>1.788651</td>\n",
       "      <td>-0.776850</td>\n",
       "      <td>-0.267705</td>\n",
       "      <td>0.354699</td>\n",
       "      <td>-0.561528</td>\n",
       "      <td>0.599305</td>\n",
       "      <td>-0.891499</td>\n",
       "      <td>0.289732</td>\n",
       "      <td>1.046112</td>\n",
       "      <td>0.135486</td>\n",
       "      <td>...</td>\n",
       "      <td>-0.540107</td>\n",
       "      <td>0.134071</td>\n",
       "      <td>-0.012685</td>\n",
       "      <td>-0.026584</td>\n",
       "      <td>0.434025</td>\n",
       "      <td>-0.992854</td>\n",
       "      <td>0</td>\n",
       "      <td>0</td>\n",
       "      <td>0</td>\n",
       "      <td>0</td>\n",
       "    </tr>\n",
       "    <tr>\n",
       "      <th>29474</th>\n",
       "      <td>-1.666684</td>\n",
       "      <td>2.203363</td>\n",
       "      <td>-0.686770</td>\n",
       "      <td>-0.875557</td>\n",
       "      <td>-0.106012</td>\n",
       "      <td>-1.245949</td>\n",
       "      <td>0.702246</td>\n",
       "      <td>0.209641</td>\n",
       "      <td>0.752573</td>\n",
       "      <td>1.176528</td>\n",
       "      <td>...</td>\n",
       "      <td>-0.115501</td>\n",
       "      <td>0.163220</td>\n",
       "      <td>0.752142</td>\n",
       "      <td>0.434362</td>\n",
       "      <td>0.686999</td>\n",
       "      <td>-0.999164</td>\n",
       "      <td>0</td>\n",
       "      <td>0</td>\n",
       "      <td>0</td>\n",
       "      <td>0</td>\n",
       "    </tr>\n",
       "    <tr>\n",
       "      <th>276481</th>\n",
       "      <td>-0.924351</td>\n",
       "      <td>1.101980</td>\n",
       "      <td>-0.604218</td>\n",
       "      <td>-0.468883</td>\n",
       "      <td>0.195872</td>\n",
       "      <td>-0.342982</td>\n",
       "      <td>1.021113</td>\n",
       "      <td>0.206292</td>\n",
       "      <td>0.252747</td>\n",
       "      <td>-0.884780</td>\n",
       "      <td>...</td>\n",
       "      <td>-0.256210</td>\n",
       "      <td>0.548722</td>\n",
       "      <td>-0.127706</td>\n",
       "      <td>-0.072745</td>\n",
       "      <td>0.452660</td>\n",
       "      <td>-0.992293</td>\n",
       "      <td>0</td>\n",
       "      <td>0</td>\n",
       "      <td>0</td>\n",
       "      <td>0</td>\n",
       "    </tr>\n",
       "    <tr>\n",
       "      <th>278846</th>\n",
       "      <td>2.140975</td>\n",
       "      <td>-0.548486</td>\n",
       "      <td>-1.044107</td>\n",
       "      <td>-0.558748</td>\n",
       "      <td>-0.753071</td>\n",
       "      <td>-1.055818</td>\n",
       "      <td>-0.775513</td>\n",
       "      <td>-0.258478</td>\n",
       "      <td>-0.159583</td>\n",
       "      <td>0.038688</td>\n",
       "      <td>...</td>\n",
       "      <td>-0.091415</td>\n",
       "      <td>-0.091315</td>\n",
       "      <td>0.038585</td>\n",
       "      <td>-0.008431</td>\n",
       "      <td>0.656535</td>\n",
       "      <td>-0.998447</td>\n",
       "      <td>0</td>\n",
       "      <td>0</td>\n",
       "      <td>0</td>\n",
       "      <td>0</td>\n",
       "    </tr>\n",
       "  </tbody>\n",
       "</table>\n",
       "<p>5 rows × 34 columns</p>\n",
       "</div>"
      ],
      "text/plain": [
       "              V1        V2        V3        V4        V5        V6        V7  \\\n",
       "43428  -0.441225  0.159937 -1.340159 -1.528802  1.386432 -1.586516  1.083920   \n",
       "49906   1.788651 -0.776850 -0.267705  0.354699 -0.561528  0.599305 -0.891499   \n",
       "29474  -1.666684  2.203363 -0.686770 -0.875557 -0.106012 -1.245949  0.702246   \n",
       "276481 -0.924351  1.101980 -0.604218 -0.468883  0.195872 -0.342982  1.021113   \n",
       "278846  2.140975 -0.548486 -1.044107 -0.558748 -0.753071 -1.055818 -0.775513   \n",
       "\n",
       "              V8        V9       V10  ...       V25       V26       V27  \\\n",
       "43428  -0.820373  0.226273  0.203437  ...  0.368505 -0.079645 -0.299093   \n",
       "49906   0.289732  1.046112  0.135486  ... -0.540107  0.134071 -0.012685   \n",
       "29474   0.209641  0.752573  1.176528  ... -0.115501  0.163220  0.752142   \n",
       "276481  0.206292  0.252747 -0.884780  ... -0.256210  0.548722 -0.127706   \n",
       "278846 -0.258478 -0.159583  0.038688  ... -0.091415 -0.091315  0.038585   \n",
       "\n",
       "             V28  norm_Time  norm_Amount  Class  predict  \\\n",
       "43428  -0.132691   0.127575    -0.998836      0        0   \n",
       "49906  -0.026584   0.434025    -0.992854      0        0   \n",
       "29474   0.434362   0.686999    -0.999164      0        0   \n",
       "276481 -0.072745   0.452660    -0.992293      0        0   \n",
       "278846 -0.008431   0.656535    -0.998447      0        0   \n",
       "\n",
       "        wrong_predict_with_class_0  wrong_predict_with_class_1  \n",
       "43428                            0                           0  \n",
       "49906                            0                           0  \n",
       "29474                            0                           0  \n",
       "276481                           0                           0  \n",
       "278846                           0                           0  \n",
       "\n",
       "[5 rows x 34 columns]"
      ]
     },
     "execution_count": 40,
     "metadata": {},
     "output_type": "execute_result"
    }
   ],
   "source": [
    "test_data.head()"
   ]
  },
  {
   "cell_type": "markdown",
   "metadata": {},
   "source": [
    "# the point ,1,  represents the wrong predict in normal class"
   ]
  },
  {
   "cell_type": "code",
   "execution_count": 42,
   "metadata": {},
   "outputs": [
    {
     "data": {
      "text/plain": [
       "<matplotlib.axes._subplots.AxesSubplot at 0x7f9385b0ded0>"
      ]
     },
     "execution_count": 42,
     "metadata": {},
     "output_type": "execute_result"
    },
    {
     "data": {
      "image/png": "[encoded data removed]",
      "text/plain": [
       "<Figure size 432x288 with 1 Axes>"
      ]
     },
     "metadata": {
      "needs_background": "light"
     },
     "output_type": "display_data"
    }
   ],
   "source": [
    "sns.scatterplot(x='norm_Time', y='norm_Amount', hue='wrong_predict_with_class_0', data=test_data)"
   ]
  },
  {
   "cell_type": "markdown",
   "metadata": {},
   "source": [
    "# the point ,1,  represents the wrong predict in fraud class\n"
   ]
  },
  {
   "cell_type": "code",
   "execution_count": 44,
   "metadata": {},
   "outputs": [
    {
     "data": {
      "text/plain": [
       "<matplotlib.axes._subplots.AxesSubplot at 0x7f9387212f50>"
      ]
     },
     "execution_count": 44,
     "metadata": {},
     "output_type": "execute_result"
    },
    {
     "data": {
      "image/png": "[encoded data removed]",
      "text/plain": [
       "<Figure size 432x288 with 1 Axes>"
      ]
     },
     "metadata": {
      "needs_background": "light"
     },
     "output_type": "display_data"
    }
   ],
   "source": [
    "sns.scatterplot(x='norm_Time', y='norm_Amount', hue='wrong_predict_with_class_1', data=test_data, alpha=0.1)"
   ]
  },
  {
   "cell_type": "code",
   "execution_count": null,
   "metadata": {},
   "outputs": [],
   "source": []
  }
 ],
 "metadata": {
  "kernelspec": {
   "display_name": "Python 3",
   "language": "python",
   "name": "python3"
  },
  "language_info": {
   "codemirror_mode": {
    "name": "ipython",
    "version": 3
   },
   "file_extension": ".py",
   "mimetype": "text/x-python",
   "name": "python",
   "nbconvert_exporter": "python",
   "pygments_lexer": "ipython3",
   "version": "3.7.6"
  }
 },
 "nbformat": 4,
 "nbformat_minor": 5
}
